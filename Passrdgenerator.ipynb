{
  "nbformat": 4,
  "nbformat_minor": 0,
  "metadata": {
    "colab": {
      "provenance": [],
      "authorship_tag": "ABX9TyPDi4elKJGku8aPqyP6KiZK",
      "include_colab_link": true
    },
    "kernelspec": {
      "name": "python3",
      "display_name": "Python 3"
    },
    "language_info": {
      "name": "python"
    }
  },
  "cells": [
    {
      "cell_type": "markdown",
      "metadata": {
        "id": "view-in-github",
        "colab_type": "text"
      },
      "source": [
        "<a href=\"https://colab.research.google.com/github/Haramdevops/Password-Generator/blob/main/Passrdgenerator.ipynb\" target=\"_parent\"><img src=\"https://colab.research.google.com/assets/colab-badge.svg\" alt=\"Open In Colab\"/></a>"
      ]
    },
    {
      "cell_type": "code",
      "execution_count": 1,
      "metadata": {
        "colab": {
          "base_uri": "https://localhost:8080/"
        },
        "id": "dMsE05981bTw",
        "outputId": "9b639b7c-4ab0-43e9-8940-86e5455ee26a"
      },
      "outputs": [
        {
          "output_type": "stream",
          "name": "stdout",
          "text": [
            "Enter number of uppercase letters: 5\n",
            "Enter number of lowercase letters: 7\n",
            "Enter number of digits: 3\n",
            "Enter number of special characters: 0\n",
            "Generated Password: voPoqHZZwh3jK88\n"
          ]
        }
      ],
      "source": [
        "import string\n",
        "import random\n",
        "\n",
        "upper = int(input(\"Enter number of uppercase letters: \"))\n",
        "lower = int(input(\"Enter number of lowercase letters: \"))\n",
        "digits = int(input(\"Enter number of digits: \"))\n",
        "special = int(input(\"Enter number of special characters: \"))\n",
        "\n",
        "password = \"\"\n",
        "\n",
        "for _ in range(upper):\n",
        "    password += random.choice(string.ascii_uppercase)\n",
        "\n",
        "for _ in range(lower):\n",
        "    password += random.choice(string.ascii_lowercase)\n",
        "\n",
        "for _ in range(digits):\n",
        "    password += random.choice(string.digits)\n",
        "\n",
        "for _ in range(special):\n",
        "    password += random.choice(string.punctuation)\n",
        "\n",
        "password = ''.join(random.sample(password, len(password)))\n",
        "\n",
        "print(\"Generated Password:\", password)"
      ]
    }
  ]
}